{
 "cells": [
  {
   "cell_type": "markdown",
   "id": "3d839de8",
   "metadata": {},
   "source": [
    "**Exercícios de Fixação de *Python***"
   ]
  },
  {
   "cell_type": "markdown",
   "id": "bc3c70ec",
   "metadata": {},
   "source": [
    "* Calcule a soma dos numeros 10 ao 14"
   ]
  },
  {
   "cell_type": "code",
   "execution_count": 1,
   "id": "2ba3b647",
   "metadata": {},
   "outputs": [
    {
     "name": "stdout",
     "output_type": "stream",
     "text": [
      "60\n"
     ]
    }
   ],
   "source": [
    "somatorio = sum([10, 11, 12, 13, 14])\n",
    "print(somatorio)"
   ]
  },
  {
   "cell_type": "markdown",
   "id": "3c2d954e",
   "metadata": {},
   "source": [
    "* Calcule a média entre os números 10, 15 e 20"
   ]
  },
  {
   "cell_type": "code",
   "execution_count": 2,
   "id": "79c9fa67",
   "metadata": {},
   "outputs": [
    {
     "name": "stdout",
     "output_type": "stream",
     "text": [
      "15.0\n"
     ]
    }
   ],
   "source": [
    "media = sum([10, 15, 20]) / 3\n",
    "print(media)"
   ]
  },
  {
   "cell_type": "markdown",
   "id": "2c68af89",
   "metadata": {},
   "source": [
    "* Peça ao usuário digitar duas notas (0 - 10) e os pesos das notas, calcule a média ponderada entre elas"
   ]
  },
  {
   "cell_type": "code",
   "execution_count": 5,
   "id": "9849181c",
   "metadata": {},
   "outputs": [
    {
     "name": "stdout",
     "output_type": "stream",
     "text": [
      "Insira a primeira nota (0 a 10):\n",
      "Nota 1: 5.0\n",
      "Insira o peso da primeira nota (1 a 9):\n",
      "Peso 1: 8.0\n",
      "Insira a segunda nota (0 a 10):\n",
      "Nota 2: 9.0\n",
      "Insira o peso da segunda nota (1 a 9):\n",
      "Peso 2: 2.0\n",
      "A média ponderada é: 5.8\n"
     ]
    }
   ],
   "source": [
    "print(\"Insira a primeira nota (0 a 10):\")\n",
    "nota1 = float(input())\n",
    "print(\"Nota 1:\", nota1)\n",
    "print(\"Insira o peso da primeira nota (1 a 9):\")\n",
    "peso1 = float(input())\n",
    "print(\"Peso 1:\", peso1)\n",
    "print(\"Insira a segunda nota (0 a 10):\")\n",
    "nota2 = float(input())\n",
    "print(\"Nota 2:\", nota2)\n",
    "print(\"Insira o peso da segunda nota (1 a 9):\")\n",
    "peso2 = float(input()) \n",
    "print(\"Peso 2:\", peso2)\n",
    "\n",
    "# Cálculo da média ponderada\n",
    "media_ponderada = (nota1 * peso1 + nota2 * peso2) / (peso1 + peso2)\n",
    "print(\"A média ponderada é:\", media_ponderada)"
   ]
  },
  {
   "cell_type": "markdown",
   "id": "3020aff4",
   "metadata": {},
   "source": [
    "* Qual é o menor preço da lista?\n",
    "    * valores[\"R$100.20\", \"R$34.90\", \"R$31.50\", \"R$18.95\"]"
   ]
  },
  {
   "cell_type": "code",
   "execution_count": 7,
   "id": "85eb7c0b",
   "metadata": {},
   "outputs": [
    {
     "name": "stdout",
     "output_type": "stream",
     "text": [
      "O menor valor é: R$ 18.95\n"
     ]
    }
   ],
   "source": [
    "valor = min([100.20, 34.90, 31.50, 18.95])\n",
    "print(\"O menor valor é: R$\", valor)"
   ]
  }
 ],
 "metadata": {
  "kernelspec": {
   "display_name": "Python 3",
   "language": "python",
   "name": "python3"
  },
  "language_info": {
   "codemirror_mode": {
    "name": "ipython",
    "version": 3
   },
   "file_extension": ".py",
   "mimetype": "text/x-python",
   "name": "python",
   "nbconvert_exporter": "python",
   "pygments_lexer": "ipython3",
   "version": "3.13.3"
  }
 },
 "nbformat": 4,
 "nbformat_minor": 5
}
