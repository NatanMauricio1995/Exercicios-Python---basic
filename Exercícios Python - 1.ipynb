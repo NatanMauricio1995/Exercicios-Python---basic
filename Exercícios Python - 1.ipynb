{
 "cells": [
  {
   "cell_type": "markdown",
   "id": "3d839de8",
   "metadata": {},
   "source": [
    "**Exercícios de Fixação de *Python***"
   ]
  },
  {
   "cell_type": "markdown",
   "id": "bc3c70ec",
   "metadata": {},
   "source": [
    "1) Calcule a soma dos numeros 10 ao 14"
   ]
  },
  {
   "cell_type": "code",
   "execution_count": 1,
   "id": "2ba3b647",
   "metadata": {},
   "outputs": [
    {
     "name": "stdout",
     "output_type": "stream",
     "text": [
      "60\n"
     ]
    }
   ],
   "source": [
    "somatorio = sum([10, 11, 12, 13, 14])\n",
    "print(somatorio)"
   ]
  },
  {
   "cell_type": "markdown",
   "id": "3c2d954e",
   "metadata": {},
   "source": [
    "2) Calcule a média entre os números 10, 15 e 20"
   ]
  },
  {
   "cell_type": "code",
   "execution_count": 2,
   "id": "79c9fa67",
   "metadata": {},
   "outputs": [
    {
     "name": "stdout",
     "output_type": "stream",
     "text": [
      "15.0\n"
     ]
    }
   ],
   "source": [
    "media = sum([10, 15, 20]) / 3\n",
    "print(media)"
   ]
  },
  {
   "cell_type": "markdown",
   "id": "2c68af89",
   "metadata": {},
   "source": [
    "3) Peça ao usuário digitar duas notas (0 - 10) e os pesos das notas, calcule a média ponderada entre elas"
   ]
  },
  {
   "cell_type": "code",
   "execution_count": 3,
   "id": "9849181c",
   "metadata": {},
   "outputs": [
    {
     "name": "stdout",
     "output_type": "stream",
     "text": [
      "Insira a primeira nota (0 a 10):\n",
      "Nota 1: 8.0\n",
      "Insira o peso da primeira nota (1 a 9):\n",
      "Peso 1: 4.0\n",
      "Insira a segunda nota (0 a 10):\n",
      "Nota 2: 9.0\n",
      "Insira o peso da segunda nota (1 a 9):\n",
      "Peso 2: 4.0\n",
      "A média ponderada é: 8.5\n"
     ]
    }
   ],
   "source": [
    "print(\"Insira a primeira nota (0 a 10):\")\n",
    "nota1 = float(input())\n",
    "print(\"Nota 1:\", nota1)\n",
    "print(\"Insira o peso da primeira nota (1 a 9):\")\n",
    "peso1 = float(input())\n",
    "print(\"Peso 1:\", peso1)\n",
    "print(\"Insira a segunda nota (0 a 10):\")\n",
    "nota2 = float(input())\n",
    "print(\"Nota 2:\", nota2)\n",
    "print(\"Insira o peso da segunda nota (1 a 9):\")\n",
    "peso2 = float(input()) \n",
    "print(\"Peso 2:\", peso2)\n",
    "\n",
    "# Cálculo da média ponderada\n",
    "media_ponderada = (nota1 * peso1 + nota2 * peso2) / (peso1 + peso2)\n",
    "print(\"A média ponderada é:\", media_ponderada)"
   ]
  },
  {
   "cell_type": "markdown",
   "id": "3020aff4",
   "metadata": {},
   "source": [
    "4) Qual é o menor preço da lista?\n",
    "    * valores[ R$ 100.20, R$ 34.90, R$ 31.50, R$ 18.95]"
   ]
  },
  {
   "cell_type": "code",
   "execution_count": 4,
   "id": "85eb7c0b",
   "metadata": {},
   "outputs": [
    {
     "name": "stdout",
     "output_type": "stream",
     "text": [
      "O menor valor é: R$ 18.95\n"
     ]
    }
   ],
   "source": [
    "valor = min([100.20, 34.90, 31.50, 18.95])\n",
    "print(\"O menor valor é: R$\", valor)"
   ]
  },
  {
   "cell_type": "markdown",
   "id": "645090db",
   "metadata": {},
   "source": [
    "5) Avalie se o número digitado pelo usuário é par ou ímpar. Se for par a saída deve mostrar **True**, se ímpar deverá mostrar **False**"
   ]
  },
  {
   "cell_type": "code",
   "execution_count": null,
   "id": "22087330",
   "metadata": {},
   "outputs": [],
   "source": [
    "print(\"Digite um número inteiro para verificarmos se é par:\")\n",
    "numero = int(input())\n",
    "print(\"Você digitou:\", numero)\n",
    "if(numero % 2 == 0):\n",
    "    print(\"True\")\n",
    "else:\n",
    "    print(\"False\")"
   ]
  },
  {
   "cell_type": "markdown",
   "id": "38655598",
   "metadata": {},
   "source": [
    "6) Verifique se o menor preço da lista é menor que R$ 20.00\n",
    "    * Valores: [R$ 100.20 , R$ 34.90, R$ 31.50, R$ 18.95]"
   ]
  },
  {
   "cell_type": "code",
   "execution_count": 8,
   "id": "e1c5a530",
   "metadata": {},
   "outputs": [
    {
     "name": "stdout",
     "output_type": "stream",
     "text": [
      "R$ 18.95 é menor que R$ 20,00\n"
     ]
    }
   ],
   "source": [
    "valor = min([100.20, 34.90, 31.50, 18.95])\n",
    "if(valor < 20):\n",
    "    print(\"R$\",valor,\"é menor que R$ 20,00\")\n",
    "else:\n",
    "    print(\"R$\",valor, \"é maior ou igual a R$ 20,00\")"
   ]
  },
  {
   "cell_type": "markdown",
   "id": "c918f1cf",
   "metadata": {},
   "source": [
    "7. Faça um programa que converta a temperatura em graus Fahrenheit, fornecida pelo usuário, em graus Celsius.\n",
    "    * T(Celcius) = (5/9)*(T(Fahrenheit)-32)"
   ]
  },
  {
   "cell_type": "code",
   "execution_count": null,
   "id": "2bf94261",
   "metadata": {},
   "outputs": [
    {
     "name": "stdout",
     "output_type": "stream",
     "text": [
      "-- Conversão de temperatura --\n",
      "\n",
      "Digite a temperatura em graus Fahrenheit(°F):\n",
      "Temperatura em Fahrenheit: 32.0 °F\n",
      "Temperatura em Celsius: 0.0 °C\n"
     ]
    }
   ],
   "source": [
    "print(\"-- Conversão de temperatura --\\n\")\n",
    "print(\"Digite a temperatura em graus Fahrenheit(°F):\")\n",
    "fahrenheit = float(input())\n",
    "print(\"Temperatura em Fahrenheit:\", fahrenheit, \"°F\")\n",
    "celsius = (fahrenheit - 32) * 5 / 9\n",
    "print(\"Temperatura em Celsius:\", celsius, \"°C\")"
   ]
  }
 ],
 "metadata": {
  "kernelspec": {
   "display_name": "Python 3",
   "language": "python",
   "name": "python3"
  },
  "language_info": {
   "codemirror_mode": {
    "name": "ipython",
    "version": 3
   },
   "file_extension": ".py",
   "mimetype": "text/x-python",
   "name": "python",
   "nbconvert_exporter": "python",
   "pygments_lexer": "ipython3",
   "version": "3.13.3"
  }
 },
 "nbformat": 4,
 "nbformat_minor": 5
}
